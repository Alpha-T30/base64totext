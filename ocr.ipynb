{
  "nbformat": 4,
  "nbformat_minor": 0,
  "metadata": {
    "colab": {
      "name": "ocr.ipynb",
      "provenance": [],
      "collapsed_sections": [],
      "authorship_tag": "ABX9TyOtZMqopYe2RKB4EH2RDbF2",
      "include_colab_link": true
    },
    "kernelspec": {
      "name": "python3",
      "display_name": "Python 3"
    },
    "language_info": {
      "name": "python"
    },
    "accelerator": "GPU"
  },
  "cells": [
    {
      "cell_type": "markdown",
      "metadata": {
        "id": "view-in-github",
        "colab_type": "text"
      },
      "source": [
        "<a href=\"https://colab.research.google.com/github/Alpha-T30/base64totext/blob/main/ocr.ipynb\" target=\"_parent\"><img src=\"https://colab.research.google.com/assets/colab-badge.svg\" alt=\"Open In Colab\"/></a>"
      ]
    },
    {
      "cell_type": "code",
      "metadata": {
        "id": "6y4zaPwwt_a-"
      },
      "source": [
        "#first we have to install this module \n",
        "#git hub link for full doc https://github.com/JaidedAI/EasyOCR\n",
        "#it supports 80+ language \n",
        "!pip install easyocr"
      ],
      "execution_count": null,
      "outputs": []
    },
    {
      "cell_type": "code",
      "metadata": {
        "id": "10JsotaVuEpy"
      },
      "source": [
        "import easyocr\n",
        "#we need two more modules , so install it first \n",
        "import base64\n",
        "import cv2 as cv"
      ],
      "execution_count": 75,
      "outputs": []
    },
    {
      "cell_type": "code",
      "metadata": {
        "id": "9lAD2Amduneb",
        "colab": {
          "base_uri": "https://localhost:8080/"
        },
        "outputId": "2ea075a6-193c-4e9b-e047-9070dfee937d"
      },
      "source": [
        "#you have to run this sell just once , you can select multiple language \n",
        "#if you have gpu , remove gpu=False \n",
        "#for better understanding read the doc here https://github.com/JaidedAI/EasyOCR\n",
        "reader = easyocr.Reader(['en'],gpu = False) \n"
      ],
      "execution_count": 76,
      "outputs": [
        {
          "output_type": "stream",
          "text": [
            "Using CPU. Note: This module is much faster with a GPU.\n"
          ],
          "name": "stderr"
        }
      ]
    },
    {
      "cell_type": "code",
      "metadata": {
        "colab": {
          "base_uri": "https://localhost:8080/"
        },
        "id": "ZyhAjAFmN2JU",
        "outputId": "4f93274b-4486-41ce-8a34-2b937258f6ef"
      },
      "source": [
        "#now let's take the image in base64 form and \n",
        "#The bytes() function returns a bytes object\n",
        "base=bytes (input(\"Enter your image in base64 form: \"),encoding='utf-8')\n",
        " \n"
      ],
      "execution_count": 77,
      "outputs": [
        {
          "output_type": "stream",
          "text": [
            "Enter your image in base64 form: iVBORw0KGgoAAAANSUhEUgAAAHgAAAArCAYAAACzfkyLAAABKElEQVR42u2bUY7FMAgDuf+lu2fYPrAxHUv9TC0xgSYpqUIIIYQQQgghhBBCKF3P0KP0no6BK/YA/jEQ6olk8f0q4K3Vot33i4BTKkaL79cA/+c9qkk16TtWct6MdS4oO8ds8R0LWi0E/EvAEsfa4W4BPD3e5WuHqwScXGZtWQzgw4Cn9qJby/Pb97h8V8BVAb6w1ZFmsXrjD2Ah4G4D96kVgAfhqs5lARwIuOs4FMCDcLvgAzgQbudCDMDLAReAtc0ALgFY1AhQYZABHJC9ABZ1eSQCruIsOgKu+zt85m8SgA8Dfo4CrqKj42z2Tk6OqJ4sdfZ2lamrZVbaH63IyGm4SVudEwcbSXeS0n1X3qw7d0fI6etaPbuC/NY/1nfD9uhZOtEifP8A7QjChHZyUigAAAAASUVORK5CYII=\n"
          ],
          "name": "stdout"
        }
      ]
    },
    {
      "cell_type": "code",
      "metadata": {
        "id": "bs0Bapwl8EKI"
      },
      "source": [
        "#now convert the base64 url into image \n",
        "image_name=\"saved_image.png\"\n",
        "with open(image_name, \"wb\") as fh:\n",
        "    fh.write(base64.decodebytes(base))"
      ],
      "execution_count": 78,
      "outputs": []
    },
    {
      "cell_type": "code",
      "metadata": {
        "colab": {
          "base_uri": "https://localhost:8080/"
        },
        "id": "7pNTtc_mAQr4",
        "outputId": "cc23a820-e859-437e-c597-85627949b99c"
      },
      "source": [
        "#if the input image has no background, we have to give a background to predict \n",
        "\n",
        "\n",
        "# variable \n",
        "RED =255\n",
        "GREEN =255\n",
        "BLUE =255\n",
        "ALPHA = 225\n",
        "Image = cv.imread(image_name, cv.IMREAD_UNCHANGED)\n",
        "\n",
        "trasn_mask = Image[:,:,3 ]==0\n",
        "\n",
        "Image[trasn_mask]=[BLUE, GREEN, RED, ALPHA]\n",
        "cv.imwrite(\"output.png\", Image)\n",
        " \n",
        " \n",
        " "
      ],
      "execution_count": 79,
      "outputs": [
        {
          "output_type": "execute_result",
          "data": {
            "text/plain": [
              "True"
            ]
          },
          "metadata": {},
          "execution_count": 79
        }
      ]
    },
    {
      "cell_type": "code",
      "metadata": {
        "id": "EYmZcYeDvGRK"
      },
      "source": [
        "#now let's predict \n",
        "#remove detail=0 for full output it gives line by line prediction and \n",
        "#the co-ordinates of the detected text\n",
        "output = reader.readtext(\"output.png\",detail = 0)"
      ],
      "execution_count": 80,
      "outputs": []
    },
    {
      "cell_type": "code",
      "metadata": {
        "colab": {
          "base_uri": "https://localhost:8080/"
        },
        "id": "AW9bmD28vJjB",
        "outputId": "0c645e06-3fef-44c7-c7ab-9fdd52bcb332"
      },
      "source": [
        "output"
      ],
      "execution_count": 81,
      "outputs": [
        {
          "output_type": "execute_result",
          "data": {
            "text/plain": [
              "['7500']"
            ]
          },
          "metadata": {},
          "execution_count": 81
        }
      ]
    },
    {
      "cell_type": "code",
      "metadata": {
        "colab": {
          "base_uri": "https://localhost:8080/"
        },
        "id": "2YJGsDIIvN9c",
        "outputId": "b766a743-09f5-404d-cdda-3a6b8be334ed"
      },
      "source": [
        "#saving the output in a txt file \n",
        "text_file = open(\"sample.txt\", \"w\")\n",
        "for i in output:\n",
        "    print(i)\n",
        "    text_file.writelines(f'{i} \\n')\n",
        "text_file.close()\n",
        "\n",
        " "
      ],
      "execution_count": 82,
      "outputs": [
        {
          "output_type": "stream",
          "text": [
            "7500\n"
          ],
          "name": "stdout"
        }
      ]
    }
  ]
}