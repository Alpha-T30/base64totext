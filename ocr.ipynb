{
  "nbformat": 4,
  "nbformat_minor": 0,
  "metadata": {
    "colab": {
      "name": "ocr.ipynb",
      "provenance": [],
      "collapsed_sections": [],
      "authorship_tag": "ABX9TyNb80UeeqXrM+f1IL5RQrvK",
      "include_colab_link": true
    },
    "kernelspec": {
      "name": "python3",
      "display_name": "Python 3"
    },
    "language_info": {
      "name": "python"
    },
    "accelerator": "GPU"
  },
  "cells": [
    {
      "cell_type": "markdown",
      "metadata": {
        "id": "view-in-github",
        "colab_type": "text"
      },
      "source": [
        "<a href=\"https://colab.research.google.com/github/Alpha-T30/base64totext/blob/main/ocr.ipynb\" target=\"_parent\"><img src=\"https://colab.research.google.com/assets/colab-badge.svg\" alt=\"Open In Colab\"/></a>"
      ]
    },
    {
      "cell_type": "code",
      "metadata": {
        "colab": {
          "base_uri": "https://localhost:8080/"
        },
        "id": "6y4zaPwwt_a-",
        "outputId": "574be850-42a8-4a59-fc7d-d408fe03d77d"
      },
      "source": [
        "#first we have to install this module \n",
        "#git hub link for full doc https://github.com/JaidedAI/EasyOCR\n",
        "#it supports 80+ language \n",
        "!pip install easyocr\n",
        "!pip install opencv-python\n"
      ],
      "execution_count": 83,
      "outputs": [
        {
          "output_type": "stream",
          "text": [
            "Requirement already satisfied: easyocr in /usr/local/lib/python3.7/dist-packages (1.4)\n",
            "Requirement already satisfied: numpy in /usr/local/lib/python3.7/dist-packages (from easyocr) (1.19.5)\n",
            "Requirement already satisfied: torch in /usr/local/lib/python3.7/dist-packages (from easyocr) (1.9.0+cu102)\n",
            "Requirement already satisfied: PyYAML in /usr/local/lib/python3.7/dist-packages (from easyocr) (3.13)\n",
            "Requirement already satisfied: scipy in /usr/local/lib/python3.7/dist-packages (from easyocr) (1.4.1)\n",
            "Requirement already satisfied: python-bidi in /usr/local/lib/python3.7/dist-packages (from easyocr) (0.4.2)\n",
            "Requirement already satisfied: opencv-python in /usr/local/lib/python3.7/dist-packages (from easyocr) (4.1.2.30)\n",
            "Requirement already satisfied: Pillow in /usr/local/lib/python3.7/dist-packages (from easyocr) (7.1.2)\n",
            "Requirement already satisfied: scikit-image in /usr/local/lib/python3.7/dist-packages (from easyocr) (0.16.2)\n",
            "Requirement already satisfied: torchvision>=0.5 in /usr/local/lib/python3.7/dist-packages (from easyocr) (0.10.0+cu102)\n",
            "Requirement already satisfied: typing-extensions in /usr/local/lib/python3.7/dist-packages (from torch->easyocr) (3.7.4.3)\n",
            "Requirement already satisfied: six in /usr/local/lib/python3.7/dist-packages (from python-bidi->easyocr) (1.15.0)\n",
            "Requirement already satisfied: matplotlib!=3.0.0,>=2.0.0 in /usr/local/lib/python3.7/dist-packages (from scikit-image->easyocr) (3.2.2)\n",
            "Requirement already satisfied: networkx>=2.0 in /usr/local/lib/python3.7/dist-packages (from scikit-image->easyocr) (2.6.2)\n",
            "Requirement already satisfied: PyWavelets>=0.4.0 in /usr/local/lib/python3.7/dist-packages (from scikit-image->easyocr) (1.1.1)\n",
            "Requirement already satisfied: imageio>=2.3.0 in /usr/local/lib/python3.7/dist-packages (from scikit-image->easyocr) (2.4.1)\n",
            "Requirement already satisfied: kiwisolver>=1.0.1 in /usr/local/lib/python3.7/dist-packages (from matplotlib!=3.0.0,>=2.0.0->scikit-image->easyocr) (1.3.1)\n",
            "Requirement already satisfied: python-dateutil>=2.1 in /usr/local/lib/python3.7/dist-packages (from matplotlib!=3.0.0,>=2.0.0->scikit-image->easyocr) (2.8.2)\n",
            "Requirement already satisfied: cycler>=0.10 in /usr/local/lib/python3.7/dist-packages (from matplotlib!=3.0.0,>=2.0.0->scikit-image->easyocr) (0.10.0)\n",
            "Requirement already satisfied: pyparsing!=2.0.4,!=2.1.2,!=2.1.6,>=2.0.1 in /usr/local/lib/python3.7/dist-packages (from matplotlib!=3.0.0,>=2.0.0->scikit-image->easyocr) (2.4.7)\n",
            "Requirement already satisfied: opencv-python in /usr/local/lib/python3.7/dist-packages (4.1.2.30)\n",
            "Requirement already satisfied: numpy>=1.14.5 in /usr/local/lib/python3.7/dist-packages (from opencv-python) (1.19.5)\n"
          ],
          "name": "stdout"
        }
      ]
    },
    {
      "cell_type": "code",
      "metadata": {
        "id": "10JsotaVuEpy"
      },
      "source": [
        "import easyocr\n",
        "import cv2 as cv"
      ],
      "execution_count": 84,
      "outputs": []
    },
    {
      "cell_type": "code",
      "metadata": {
        "id": "9lAD2Amduneb",
        "colab": {
          "base_uri": "https://localhost:8080/"
        },
        "outputId": "4ceb8d80-e94b-4106-8ba2-4eaf78b527b7"
      },
      "source": [
        "#you have to run this sell just once , you can select multiple language \n",
        "#if you have gpu , remove gpu=False \n",
        "#for better understanding read the doc here https://github.com/JaidedAI/EasyOCR\n",
        "reader = easyocr.Reader(['en'],gpu = False) \n"
      ],
      "execution_count": 85,
      "outputs": [
        {
          "output_type": "stream",
          "text": [
            "Using CPU. Note: This module is much faster with a GPU.\n"
          ],
          "name": "stderr"
        }
      ]
    },
    {
      "cell_type": "code",
      "metadata": {
        "colab": {
          "base_uri": "https://localhost:8080/"
        },
        "id": "ZyhAjAFmN2JU",
        "outputId": "1c737c05-a4f4-4c78-a1a1-e8afea7ccd36"
      },
      "source": [
        "#now let's take the image in base64 form and \n",
        "#The bytes() function returns a bytes object\n",
        "base=bytes (input(\"Enter your image in base64 form: \"),encoding='utf-8')\n",
        " \n"
      ],
      "execution_count": 86,
      "outputs": [
        {
          "output_type": "stream",
          "text": [
            "Enter your image in base64 form: iVBORw0KGgoAAAANSUhEUgAAAHgAAAArCAYAAACzfkyLAAABKElEQVR42u2bUY7FMAgDuf+lu2fYPrAxHUv9TC0xgSYpqUIIIYQQQgghhBBCKF3P0KP0no6BK/YA/jEQ6olk8f0q4K3Vot33i4BTKkaL79cA/+c9qkk16TtWct6MdS4oO8ds8R0LWi0E/EvAEsfa4W4BPD3e5WuHqwScXGZtWQzgw4Cn9qJby/Pb97h8V8BVAb6w1ZFmsXrjD2Ah4G4D96kVgAfhqs5lARwIuOs4FMCDcLvgAzgQbudCDMDLAReAtc0ALgFY1AhQYZABHJC9ABZ1eSQCruIsOgKu+zt85m8SgA8Dfo4CrqKj42z2Tk6OqJ4sdfZ2lamrZVbaH63IyGm4SVudEwcbSXeS0n1X3qw7d0fI6etaPbuC/NY/1nfD9uhZOtEifP8A7QjChHZyUigAAAAASUVORK5CYII=\n"
          ],
          "name": "stdout"
        }
      ]
    },
    {
      "cell_type": "code",
      "metadata": {
        "id": "bs0Bapwl8EKI"
      },
      "source": [
        "#now convert the base64 url into image \n",
        "image_name=\"saved_image.png\"\n",
        "with open(image_name, \"wb\") as fh:\n",
        "    fh.write(base64.decodebytes(base))"
      ],
      "execution_count": 87,
      "outputs": []
    },
    {
      "cell_type": "code",
      "metadata": {
        "colab": {
          "base_uri": "https://localhost:8080/"
        },
        "id": "7pNTtc_mAQr4",
        "outputId": "ce4a20c2-f5e8-46cf-814b-dacec1fba575"
      },
      "source": [
        "#if the input image has no background, we have to give a background to predict \n",
        "\n",
        "\n",
        "# variable \n",
        "RED =255\n",
        "GREEN =255\n",
        "BLUE =255\n",
        "ALPHA = 225\n",
        "Image = cv.imread(image_name, cv.IMREAD_UNCHANGED)\n",
        "\n",
        "trasn_mask = Image[:,:,3 ]==0\n",
        "\n",
        "Image[trasn_mask]=[BLUE, GREEN, RED, ALPHA]\n",
        "cv.imwrite(\"output.png\", Image)\n",
        " \n",
        " \n",
        " "
      ],
      "execution_count": 88,
      "outputs": [
        {
          "output_type": "execute_result",
          "data": {
            "text/plain": [
              "True"
            ]
          },
          "metadata": {},
          "execution_count": 88
        }
      ]
    },
    {
      "cell_type": "code",
      "metadata": {
        "id": "EYmZcYeDvGRK"
      },
      "source": [
        "#now let's predict \n",
        "#remove detail=0 for full output it gives line by line prediction and \n",
        "#the co-ordinates of the detected text\n",
        "output = reader.readtext(\"output.png\",detail = 0)"
      ],
      "execution_count": 89,
      "outputs": []
    },
    {
      "cell_type": "code",
      "metadata": {
        "colab": {
          "base_uri": "https://localhost:8080/"
        },
        "id": "AW9bmD28vJjB",
        "outputId": "7fcf182f-0f97-45a9-ab5c-3c3444edd8c1"
      },
      "source": [
        "output"
      ],
      "execution_count": 90,
      "outputs": [
        {
          "output_type": "execute_result",
          "data": {
            "text/plain": [
              "['7500']"
            ]
          },
          "metadata": {},
          "execution_count": 90
        }
      ]
    },
    {
      "cell_type": "code",
      "metadata": {
        "colab": {
          "base_uri": "https://localhost:8080/"
        },
        "id": "2YJGsDIIvN9c",
        "outputId": "b0e93735-9cb5-4719-eaf0-ba967ed25fd6"
      },
      "source": [
        "#saving the output in a txt file \n",
        "text_file = open(\"sample.txt\", \"w\")\n",
        "for i in output:\n",
        "    print(i)\n",
        "    text_file.writelines(f'{i} \\n')\n",
        "text_file.close()\n",
        "\n",
        " "
      ],
      "execution_count": 91,
      "outputs": [
        {
          "output_type": "stream",
          "text": [
            "7500\n"
          ],
          "name": "stdout"
        }
      ]
    }
  ]
}